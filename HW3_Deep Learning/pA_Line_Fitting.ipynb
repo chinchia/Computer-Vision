{
  "nbformat": 4,
  "nbformat_minor": 0,
  "metadata": {
    "colab": {
      "name": "pA.ipynb",
      "provenance": [],
      "collapsed_sections": []
    },
    "kernelspec": {
      "name": "python3",
      "display_name": "Python 3"
    },
    "accelerator": "GPU"
  },
  "cells": [
    {
      "cell_type": "code",
      "metadata": {
        "id": "or8OjMrLHDow",
        "colab_type": "code",
        "outputId": "53f7b948-808f-4313-b574-cf07a98ce209",
        "colab": {
          "base_uri": "https://localhost:8080/",
          "height": 353
        }
      },
      "source": [
        "!wget -nc 140.114.76.113:8000/pA1.csv\n",
        "!wget -nc 140.114.76.113:8000/pA2.csv"
      ],
      "execution_count": 0,
      "outputs": [
        {
          "output_type": "stream",
          "text": [
            "--2019-12-07 01:56:40--  http://140.114.76.113:8000/pA1.csv\n",
            "Connecting to 140.114.76.113:8000... connected.\n",
            "HTTP request sent, awaiting response... 200 OK\n",
            "Length: 604 [text/csv]\n",
            "Saving to: ‘pA1.csv’\n",
            "\n",
            "\rpA1.csv               0%[                    ]       0  --.-KB/s               \rpA1.csv             100%[===================>]     604  --.-KB/s    in 0s      \n",
            "\n",
            "2019-12-07 01:56:40 (131 MB/s) - ‘pA1.csv’ saved [604/604]\n",
            "\n",
            "--2019-12-07 01:56:45--  http://140.114.76.113:8000/pA2.csv\n",
            "Connecting to 140.114.76.113:8000... connected.\n",
            "HTTP request sent, awaiting response... 200 OK\n",
            "Length: 631 [text/csv]\n",
            "Saving to: ‘pA2.csv’\n",
            "\n",
            "pA2.csv             100%[===================>]     631  --.-KB/s    in 0s      \n",
            "\n",
            "2019-12-07 01:56:45 (115 MB/s) - ‘pA2.csv’ saved [631/631]\n",
            "\n"
          ],
          "name": "stdout"
        }
      ]
    },
    {
      "cell_type": "code",
      "metadata": {
        "id": "2vDqfimRIZM6",
        "colab_type": "code",
        "colab": {}
      },
      "source": [
        "import numpy as np\n",
        "import pandas as pd\n",
        "import matplotlib.pyplot as plt\n",
        "\n",
        "import torch\n",
        "from torch import nn\n",
        "from torch.nn import functional as F\n",
        "from torch.utils.data import Dataset, DataLoader"
      ],
      "execution_count": 0,
      "outputs": []
    },
    {
      "cell_type": "code",
      "metadata": {
        "id": "bcEMAJzBIbzj",
        "colab_type": "code",
        "colab": {}
      },
      "source": [
        "seed = 999\n",
        "torch.manual_seed(seed)\n",
        "torch.backends.cudnn.deterministic = True"
      ],
      "execution_count": 0,
      "outputs": []
    },
    {
      "cell_type": "code",
      "metadata": {
        "id": "LIkR5Y_JNhkS",
        "colab_type": "code",
        "colab": {}
      },
      "source": [
        "# A1"
      ],
      "execution_count": 0,
      "outputs": []
    },
    {
      "cell_type": "code",
      "metadata": {
        "id": "77iTRSnjIeyz",
        "colab_type": "code",
        "outputId": "b0d9b3c2-3856-4ba6-a4bc-f64b3d61ce25",
        "colab": {
          "base_uri": "https://localhost:8080/",
          "height": 50
        }
      },
      "source": [
        "class Data:\n",
        "    def __init__(self, csv_path):\n",
        "        super().__init__()\n",
        "        self.anns = pd.read_csv(csv_path).to_dict('records')\n",
        "\n",
        "    def __len__(self):\n",
        "        return len(self.anns)\n",
        "\n",
        "    def __getitem__(self, idx):\n",
        "        ann = self.anns[idx]\n",
        "        x = torch.tensor(ann['x'])\n",
        "        y = torch.tensor(ann['y'])\n",
        "        return x, y\n",
        "\n",
        "\n",
        "class Net(nn.Module):\n",
        "    def __init__(self):\n",
        "        super().__init__()\n",
        "        self.a = nn.Parameter(torch.rand(1) * 0.001)\n",
        "        self.b = nn.Parameter(torch.rand(1) * 0.001)\n",
        "    \n",
        "    def forward(self, xs):\n",
        "        ps = self.a * xs + self.b\n",
        "        return ps\n",
        "\n",
        "\n",
        "data = Data('./pA1.csv')\n",
        "loader = DataLoader(data, batch_size=5)\n",
        "\n",
        "device = 'cpu'\n",
        "model = Net().to(device)\n",
        "criterion = nn.MSELoss()\n",
        "optimizer = torch.optim.SGD(model.parameters(), lr=1e-1)\n",
        "\n",
        "history = {\n",
        "    'loss': [],\n",
        "    'a': [],\n",
        "    'b': []\n",
        "}\n",
        "\n",
        "for epoch in range(50):\n",
        "    for xs, ys in iter(loader):\n",
        "        xs = xs.to(device)\n",
        "        ys = ys.to(device)\n",
        "\n",
        "        optimizer.zero_grad()\n",
        "        ps = model(xs)\n",
        "        loss = criterion(ps, ys)\n",
        "        loss.backward()\n",
        "        optimizer.step()\n",
        "\n",
        "        history['loss'].append(loss.detach().item())\n",
        "        history['a'].append(model.a.item())\n",
        "        history['b'].append(model.b.item())\n",
        "\n",
        "print('a:', model.a[0])\n",
        "print('b:', model.b[0])"
      ],
      "execution_count": 0,
      "outputs": [
        {
          "output_type": "stream",
          "text": [
            "a: tensor(5.0248, grad_fn=<SelectBackward>)\n",
            "b: tensor(3.9738, grad_fn=<SelectBackward>)\n"
          ],
          "name": "stdout"
        }
      ]
    },
    {
      "cell_type": "code",
      "metadata": {
        "id": "jKSyIpyvhZ97",
        "colab_type": "code",
        "outputId": "fa28026c-5277-4bc6-eadb-be109c9d0389",
        "colab": {
          "base_uri": "https://localhost:8080/",
          "height": 248
        }
      },
      "source": [
        "from mpl_toolkits.mplot3d import Axes3D\n",
        "\n",
        "fig = plt.figure()\n",
        "ax = fig.gca(projection='3d')\n",
        "z = history['loss']\n",
        "x = history['a']\n",
        "y = history['b']\n",
        "ax.set_xlabel('a')\n",
        "ax.set_ylabel('b')\n",
        "ax.set_zlabel('loss')\n",
        "ax.plot(x, y, z)\n",
        "plt.show()"
      ],
      "execution_count": 0,
      "outputs": [
        {
          "output_type": "display_data",
          "data": {
            "image/png": "[encoded data removed]",
            "text/plain": [
              "<Figure size 432x288 with 1 Axes>"
            ]
          },
          "metadata": {
            "tags": []
          }
        }
      ]
    },
    {
      "cell_type": "code",
      "metadata": {
        "id": "zIgKLYP5MuCj",
        "colab_type": "code",
        "colab": {}
      },
      "source": [
        "# A2"
      ],
      "execution_count": 0,
      "outputs": []
    },
    {
      "cell_type": "code",
      "metadata": {
        "id": "X1gTRZIo0eMQ",
        "colab_type": "code",
        "outputId": "e5287944-a9fe-4aa2-e7d8-70418eb98ce5",
        "colab": {
          "base_uri": "https://localhost:8080/",
          "height": 50
        }
      },
      "source": [
        "from torch.autograd import Variable\n",
        "from torch import Tensor\n",
        "\n",
        "class Data:\n",
        "    def __init__(self, csv_path):\n",
        "        super().__init__()\n",
        "        self.anns = pd.read_csv(csv_path).to_dict('records')\n",
        "\n",
        "    def __len__(self):\n",
        "        return len(self.anns)\n",
        "\n",
        "    def __getitem__(self, idx):\n",
        "        ann = self.anns[idx]\n",
        "        x = torch.tensor(ann['x'])\n",
        "        y = torch.tensor(ann['y'])\n",
        "        return x, y\n",
        "\n",
        "\n",
        "class Net(nn.Module):\n",
        "    def __init__(self):\n",
        "        super(Net, self).__init__()\n",
        "        self.model = nn.Linear(2, 1)\n",
        "    \n",
        "    def forward(self, xs):\n",
        "        y_pred = self.model(xs)\n",
        "        return y_pred\n",
        "\n",
        "\n",
        "data = Data('./pA2.csv')\n",
        "loader = DataLoader(data, batch_size=1)\n",
        "\n",
        "device = 'cpu'\n",
        "model = Net().to(device)\n",
        "criterion = nn.MSELoss()\n",
        "optimizer = torch.optim.SGD(model.parameters(), lr=1e-1)\n",
        "\n",
        "history = {\n",
        "    'loss': [],\n",
        "    'w0': [],\n",
        "    'w1': [],\n",
        "    'w2': []\n",
        "}\n",
        "\n",
        "for epoch in range(50):\n",
        "    for xs, ys in iter(loader):\n",
        "        xs = xs.to(device)\n",
        "        xs = torch.tensor([xs**2, xs])\n",
        "        ys = ys.to(device)\n",
        "\n",
        "        optimizer.zero_grad()\n",
        "        ps = model(xs)\n",
        "        loss = criterion(ps, ys)\n",
        "        loss.backward()\n",
        "        optimizer.step()\n",
        "\n",
        "        history['loss'].append(loss.detach().item())\n",
        "\n",
        "print('w0, w1:', model.model.weight[0])\n",
        "print('w2:', model.model.bias[0])"
      ],
      "execution_count": 0,
      "outputs": [
        {
          "output_type": "stream",
          "text": [
            "w0, w1: tensor([-1.8526,  0.9711], grad_fn=<SelectBackward>)\n",
            "w2: tensor(4.0023, grad_fn=<SelectBackward>)\n"
          ],
          "name": "stdout"
        }
      ]
    },
    {
      "cell_type": "code",
      "metadata": {
        "id": "UpvKZ02LHn3_",
        "colab_type": "code",
        "outputId": "f6bfe466-6d96-4000-daad-39662ef5070a",
        "colab": {
          "base_uri": "https://localhost:8080/",
          "height": 279
        }
      },
      "source": [
        "plt.plot(history['loss'])\n",
        "plt.xlabel('iteration')\n",
        "plt.ylabel('loss')\n",
        "plt.show()"
      ],
      "execution_count": 0,
      "outputs": [
        {
          "output_type": "display_data",
          "data": {
            "image/png": "[encoded data removed]",
            "text/plain": [
              "<Figure size 432x288 with 1 Axes>"
            ]
          },
          "metadata": {
            "tags": []
          }
        }
      ]
    }
  ]
}