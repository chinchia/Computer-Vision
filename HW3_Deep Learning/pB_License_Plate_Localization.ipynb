{
  "nbformat": 4,
  "nbformat_minor": 0,
  "metadata": {
    "colab": {
      "name": "pB.ipynb",
      "provenance": [],
      "collapsed_sections": []
    },
    "kernelspec": {
      "name": "python3",
      "display_name": "Python 3"
    },
    "accelerator": "GPU"
  },
  "cells": [
    {
      "cell_type": "code",
      "metadata": {
        "id": "-jE09vU_iCfe",
        "colab_type": "code",
        "outputId": "f682d800-09bf-4ec8-af56-c5033d6d4a7c",
        "colab": {
          "base_uri": "https://localhost:8080/",
          "height": 302
        }
      },
      "source": [
        "!wget -nc 140.114.76.113:8000/ccpd6000.zip\n",
        "!unzip -nq ccpd6000.zip\n",
        "!ls -alh"
      ],
      "execution_count": 1,
      "outputs": [
        {
          "output_type": "stream",
          "text": [
            "--2019-12-07 03:32:53--  http://140.114.76.113:8000/ccpd6000.zip\n",
            "Connecting to 140.114.76.113:8000... connected.\n",
            "HTTP request sent, awaiting response... 200 OK\n",
            "Length: 332013713 (317M) [application/zip]\n",
            "Saving to: ‘ccpd6000.zip’\n",
            "\n",
            "ccpd6000.zip        100%[===================>] 316.63M  3.87MB/s    in 73s     \n",
            "\n",
            "2019-12-07 03:34:07 (4.32 MB/s) - ‘ccpd6000.zip’ saved [332013713/332013713]\n",
            "\n",
            "total 317M\n",
            "drwxr-xr-x 1 root root 4.0K Dec  7 03:34 .\n",
            "drwxr-xr-x 1 root root 4.0K Dec  7 03:31 ..\n",
            "drwxr-xr-x 4 root root 4.0K Nov 19 11:35 ccpd6000\n",
            "-rw-r--r-- 1 root root 317M Nov 19 11:44 ccpd6000.zip\n",
            "drwxr-xr-x 1 root root 4.0K Dec  5 16:38 .config\n",
            "drwxr-xr-x 1 root root 4.0K Nov 27 22:38 sample_data\n"
          ],
          "name": "stdout"
        }
      ]
    },
    {
      "cell_type": "code",
      "metadata": {
        "id": "sGcRIJN4ixh5",
        "colab_type": "code",
        "outputId": "8a1780cb-03cb-42d8-ddb8-c4bcb7b497e6",
        "colab": {
          "base_uri": "https://localhost:8080/",
          "height": 34
        }
      },
      "source": [
        "!sha256sum ccpd6000.zip"
      ],
      "execution_count": 2,
      "outputs": [
        {
          "output_type": "stream",
          "text": [
            "977d7124a53e565c3f2b371a871ee04ebbe572f07deb0b38c5548ddaae0cb2c9  ccpd6000.zip\n"
          ],
          "name": "stdout"
        }
      ]
    },
    {
      "cell_type": "code",
      "metadata": {
        "id": "xRGNloUXi5-d",
        "colab_type": "code",
        "colab": {}
      },
      "source": [
        "import random\n",
        "import numpy as np\n",
        "import pandas as pd\n",
        "from pathlib import Path\n",
        "from datetime import datetime\n",
        "import matplotlib.pyplot as plt\n",
        "from PIL import Image, ImageDraw\n",
        "from IPython import display\n",
        "\n",
        "import torch\n",
        "from torch import nn\n",
        "from torch.nn import functional as F\n",
        "from torchvision.transforms import functional as tf\n",
        "from torch.utils.data import DataLoader, Dataset, Subset, ConcatDataset\n",
        "\n",
        "# Fix the seed for reproducibility\n",
        "seed = 999\n",
        "random.seed(seed)\n",
        "np.random.seed(seed)\n",
        "torch.manual_seed(seed)\n",
        "torch.backends.cudnn.deterministic = True\n",
        "\n",
        "# Some constants\n",
        "FIELDS = ['BR_x', 'BR_y', 'BL_x', 'BL_y', 'TL_x', 'TL_y', 'TR_x', 'TR_y'] # the fields in csv\n",
        "IMG_SIZE = (192, 320) # the input image size (width, height) of the model\n",
        "ROOT_DIR = Path('./ccpd6000/') # the root directory of the dataset"
      ],
      "execution_count": 0,
      "outputs": []
    },
    {
      "cell_type": "code",
      "metadata": {
        "id": "7SNRu_rJi_aR",
        "colab_type": "code",
        "colab": {}
      },
      "source": [
        "def draw_kpts(img, kpts, c='red', r=2.0):\n",
        "    '''\n",
        "    Draw `kpts` on `img`. `img` is modified inplace.\n",
        "    Args:\n",
        "        img: (PIL.Image) the image to be drawn\n",
        "        kpts: (torch.tensor) the normalized positions (x, y) of keypoints, shaped [4, 2]\n",
        "        c: (str) color\n",
        "        r: (float) radius of the drawn circle\n",
        "    Return:\n",
        "        img: (PIL.Image) the result.\n",
        "    '''\n",
        "    draw = ImageDraw.Draw(img)\n",
        "    size = torch.tensor([img.size]).float()\n",
        "    kpts = kpts.view(4, 2) * size\n",
        "    kpts = kpts.numpy().tolist()\n",
        "    for x, y in kpts:\n",
        "        draw.ellipse([x - r, y - r, x + r, y + r], fill=c)\n",
        "    return img"
      ],
      "execution_count": 0,
      "outputs": []
    },
    {
      "cell_type": "code",
      "metadata": {
        "id": "oaGfjhGujB-l",
        "colab_type": "code",
        "outputId": "183cc28c-bd1f-40cd-ab5b-4ac9a05dec09",
        "colab": {
          "base_uri": "https://localhost:8080/",
          "height": 336
        }
      },
      "source": [
        "class TrainData(Dataset):\n",
        "    def __init__(self, csv_path, img_dir):\n",
        "        super().__init__()\n",
        "        self.anns = pd.read_csv(csv_path).to_dict('records') # List of Dict\n",
        "        self.img_dir = Path(img_dir)\n",
        "\n",
        "    def __len__(self):\n",
        "        '''Return the number of sample\n",
        "        '''\n",
        "        self.img_paths = self.img_dir.glob('*.jpg')\n",
        "        self.img_paths = sorted(list(self.img_paths))\n",
        "        return len(self.img_paths)\n",
        "\n",
        "    def __getitem__(self, idx):\n",
        "        '''Map index `idx` to a sample, i.e., an image and its keypoints\n",
        "\n",
        "        Args:\n",
        "            idx: (int) index\n",
        "        Return:\n",
        "            img: (torch.FloatTensor) values in 0 ~ 1 and shaped [3, H, W]\n",
        "            kpt: (torch.FloatTensor) normalized positions of \n",
        "                bottom-right, bottom-left, top-left, top-right corners. \n",
        "                For example, position (256, 256) of an (512, 512) image should be (0.5, 0.5)\n",
        "                `kpt` should have same order as `FIELDS` and is shaped [8].\n",
        "        '''\n",
        "\n",
        "        img_path = self.img_paths[idx]\n",
        "        \n",
        "        # load image\n",
        "        img = Image.open(img_path)\n",
        "        W, H = img.size\n",
        "        img = img.convert('RGB')\n",
        "        img = img.resize((192, 320))\n",
        "        img = tf.to_tensor(img)\n",
        "        \n",
        "        # parse annotation\n",
        "        kpt = [self.anns[idx]['BR_x'], self.anns[idx]['BR_y'], self.anns[idx]['BL_x'], self.anns[idx]['BL_y'],\n",
        "               self.anns[idx]['TL_x'], self.anns[idx]['TL_y'], self.anns[idx]['TR_x'], self.anns[idx]['TR_y']]\n",
        "        kpt = torch.tensor(kpt)\n",
        "        kpt = kpt.view(4, 2)\n",
        "        kpt = kpt / torch.FloatTensor([W, H])\n",
        "        kpt = kpt.view(-1)\n",
        "        \n",
        "        return img, kpt\n",
        "\n",
        "\n",
        "# Do some checking and visualization\n",
        "data = TrainData(ROOT_DIR / 'train.csv', ROOT_DIR / 'train_images')\n",
        "print(len(data))    # should be 3000\n",
        "\n",
        "img, kpt = data[-1] # get a sample\n",
        "print(img.size())   # should be [3, H, W]\n",
        "print(img.max())    # should be <= 1.0\n",
        "print(kpt.size())   # should be [8]\n",
        "\n",
        "img = tf.to_pil_image(img) # convert tensor of shape (3, H, W) to PIL.Image\n",
        "vis = draw_kpts(img, kpt, c='orange')\n",
        "plt.imshow(vis)\n",
        "plt.show()"
      ],
      "execution_count": 5,
      "outputs": [
        {
          "output_type": "stream",
          "text": [
            "3000\n",
            "torch.Size([3, 320, 192])\n",
            "tensor(1.)\n",
            "torch.Size([8])\n"
          ],
          "name": "stdout"
        },
        {
          "output_type": "display_data",
          "data": {
            "image/png": "[encoded data removed]",
            "text/plain": [
              "<Figure size 432x288 with 1 Axes>"
            ]
          },
          "metadata": {
            "tags": []
          }
        }
      ]
    },
    {
      "cell_type": "code",
      "metadata": {
        "id": "sFUCSEt2J-lE",
        "colab_type": "code",
        "outputId": "cc6ded97-0a66-4419-ef7d-92c37b974644",
        "colab": {
          "base_uri": "https://localhost:8080/",
          "height": 67
        }
      },
      "source": [
        "class ConvBlock(nn.Module):\n",
        "    def __init__(self, cin, cout):\n",
        "        super().__init__() # necessary\n",
        "        self.conv = nn.Conv2d(cin, cout, (3, 3), padding=1)\n",
        "        self.bn = nn.BatchNorm2d(cout)\n",
        "        self.relu = nn.ReLU()\n",
        "\n",
        "    def forward(self, x):\n",
        "        x = self.conv(x)\n",
        "        x = self.bn(x)\n",
        "        x = self.relu(x)\n",
        "        return x\n",
        "\n",
        "\n",
        "class Net(nn.Module):\n",
        "    def __init__(self):\n",
        "        '''Defines parameters (what layers you gonna use)\n",
        "        '''\n",
        "        super().__init__() # necessary\n",
        "        self.features = nn.Sequential(\n",
        "            ConvBlock(3, 32),\n",
        "            ConvBlock(32, 32),\n",
        "            nn.MaxPool2d((4, 4)),\n",
        "            ConvBlock(32, 32),\n",
        "            ConvBlock(32, 32),\n",
        "            nn.MaxPool2d((2, 2)),\n",
        "            ConvBlock(32, 32),\n",
        "            ConvBlock(32, 32),\n",
        "            nn.MaxPool2d((2, 2)),\n",
        "            ConvBlock(32, 32),\n",
        "            ConvBlock(32, 32),\n",
        "            nn.MaxPool2d((2, 2)),\n",
        "            ConvBlock(32, 32),\n",
        "            ConvBlock(32, 32),\n",
        "            nn.MaxPool2d((2, 2)),\n",
        "        )\n",
        "        self.regression = nn.Sequential(\n",
        "            nn.Flatten(), nn.Linear(480, 32), nn.ReLU(), nn.Linear(32, 8), nn.Sigmoid()\n",
        "        )\n",
        "\n",
        "    def forward(self, img_b):\n",
        "        '''Define how layers are interact, that is, the forward function.\n",
        "        In this network, img_b is passed to self.features and \n",
        "        the result is passed to self.regression.\n",
        "\n",
        "        Args:\n",
        "            img_b: (torch.FloatTensor) input images (mini-batch), shaped [N, 3, H, W]\n",
        "        Return:\n",
        "            kpt_b: (torch.FloatTensor) the predictions (mini-batch), shaped [N, 8]\n",
        "        '''\n",
        "        N = img_b.size(0)\n",
        "        img_b = self.features(img_b)\n",
        "        img_b = img_b.view(N, -1)\n",
        "        kpt_b = self.regression(img_b)\n",
        "        return kpt_b\n",
        "\n",
        "\n",
        "# Do some checking\n",
        "loader = DataLoader(data, batch_size=10) # dataloader constructs mini-batch from a dataset\n",
        "img_b, kpt_b = next(iter(loader)) # get an mini-batch\n",
        "print(img_b.size()) # expects [N, 3, H, W]\n",
        "print(kpt_b.size()) # expects [N, 8]\n",
        "\n",
        "# Do a forwarding\n",
        "device = 'cuda'     # the computing device, 'cuda' or 'cpu'\n",
        "model = Net().to(device) # instantiate network and move it to device\n",
        "criterion = nn.L1Loss()  # the criterion (loss function)\n",
        "\n",
        "img_b = img_b.to(device)\n",
        "kpt_b = kpt_b.to(device)\n",
        "pred_b = model(img_b)\n",
        "loss = criterion(pred_b, kpt_b)\n",
        "print(loss)"
      ],
      "execution_count": 6,
      "outputs": [
        {
          "output_type": "stream",
          "text": [
            "torch.Size([10, 3, 320, 192])\n",
            "torch.Size([10, 8])\n",
            "tensor(0.1244, device='cuda:0', grad_fn=<L1LossBackward>)\n"
          ],
          "name": "stdout"
        }
      ]
    },
    {
      "cell_type": "code",
      "metadata": {
        "id": "ezjkDk1LNqCU",
        "colab_type": "code",
        "outputId": "ecbf93c6-ab11-43d0-c387-c2ab4814615f",
        "colab": {
          "base_uri": "https://localhost:8080/",
          "height": 1000
        }
      },
      "source": [
        "class Trainer:\n",
        "    def __init__(self, log_dir):\n",
        "        '''Initialize the varibles for training\n",
        "        Args:\n",
        "            log_dir: (pathlib.Path) the direction used for logging\n",
        "        '''\n",
        "        self.log_dir = log_dir\n",
        "\n",
        "        # Datasets and dataloaders\n",
        "        # 1. Split the whole training data into train and valid (validation)\n",
        "        # 2. Construct visualization data (25 training samples, 25 validation samples)\n",
        "        # 3. Make the corresponding dataloaders\n",
        "        data = TrainData(ROOT_DIR / 'train.csv', ROOT_DIR / 'train_images')\n",
        "        pivot = len(data) * 4 // 5\n",
        "        self.train_set = Subset(data, range(0, pivot))\n",
        "        self.valid_set = Subset(data, range(pivot, len(data)))\n",
        "        self.visul_set = ConcatDataset(\n",
        "            [\n",
        "                Subset(self.train_set, random.sample(range(len(self.train_set)), k=25)),\n",
        "                Subset(self.valid_set, random.sample(range(len(self.valid_set)), k=25)),\n",
        "            ]\n",
        "        )\n",
        "        self.train_loader = DataLoader(self.train_set, 10, shuffle=True, num_workers=4)\n",
        "        self.valid_loader = DataLoader(self.valid_set, 10, shuffle=False, num_workers=4)\n",
        "        self.visul_loader = DataLoader(self.visul_set, 10, shuffle=False)\n",
        "\n",
        "        # model, loss function, optimizer\n",
        "        self.device = 'cuda'\n",
        "        self.model = Net().to(self.device)\n",
        "        self.criterion = nn.L1Loss()\n",
        "        self.optimizer = torch.optim.Adam(self.model.parameters(), lr=1e-3)\n",
        "        self.scheduler = torch.optim.lr_scheduler.StepLR(self.optimizer, 10, gamma=0.1, last_epoch=-1)\n",
        "        self.max_epoch = 20\n",
        "\n",
        "    def run(self):\n",
        "        metrics = {'train_loss': [], 'valid_loss': []}\n",
        "        best_loss = 99\n",
        "\n",
        "        for self.epoch in range(self.max_epoch):\n",
        "            train_loss = self.train() # train 1 epoch\n",
        "            self.scheduler.step()\n",
        "            valid_loss = self.valid() # valid 1 epoch\n",
        "            self.visul()              # visualization\n",
        "\n",
        "            print(f'Epoch {self.epoch:03d}:')\n",
        "            print('train loss:', train_loss)\n",
        "            print('valid loss:', valid_loss)\n",
        "            metrics['train_loss'].append(train_loss)\n",
        "            metrics['valid_loss'].append(valid_loss)\n",
        "\n",
        "            # Save the parameters(weights) of the model to disk\n",
        "            if valid_loss < best_loss:\n",
        "                best_loss = valid_loss\n",
        "                torch.save(self.model.state_dict(), 'net_params.pkl')\n",
        "\n",
        "        # Plot the loss curve against epoch\n",
        "        plt.figure(figsize=(4, 3), dpi=70)\n",
        "        plt.plot(range(len(metrics['train_loss'])), metrics['train_loss'], color='red', label='train_loss')\n",
        "        plt.plot(range(len(metrics['valid_loss'])), metrics['valid_loss'], color='blue', label='valid_loss')\n",
        "        plt.xlabel('epoch')\n",
        "        plt.ylabel('loss')\n",
        "        plt.legend(loc='upper right')\n",
        "        plt.show()\n",
        "\n",
        "    def train(self):\n",
        "        '''Train one epoch\n",
        "        1. Switch model to training mode\n",
        "        2. Iterate mini-batches and do:\n",
        "            a. clear gradient\n",
        "            b. forward to get loss\n",
        "            c. loss backward\n",
        "            d. update parameters\n",
        "        3. Return the average loss in this epoch\n",
        "        '''\n",
        "        model.train()\n",
        "        loss_steps = []\n",
        "\n",
        "        for img_b, kpt_b in iter(self.train_loader):\n",
        "            img_b = img_b.to(self.device)\n",
        "            kpt_b = kpt_b.to(self.device)\n",
        "\n",
        "            self.optimizer.zero_grad()\n",
        "            pred_b = self.model(img_b)\n",
        "            loss = self.criterion(pred_b, kpt_b)\n",
        "            loss.backward()\n",
        "            self.optimizer.step()\n",
        "\n",
        "            loss = loss.detach().item()\n",
        "            loss_steps.append(loss)\n",
        "\n",
        "        avg_loss = sum(loss_steps) / len(loss_steps)\n",
        "        \n",
        "        return avg_loss\n",
        "\n",
        "    @torch.no_grad()\n",
        "    def valid(self):\n",
        "        '''Validate one epoch\n",
        "        1. Switch model to evaluation mode and turn off gradient (by @torch.no_grad() or with torch.no_grad())\n",
        "        2. Iterate mini-batches and do forwarding to get loss\n",
        "        3. Return average loss in this epoch\n",
        "        '''\n",
        "        model.eval()\n",
        "        loss_steps = []\n",
        "\n",
        "        with torch.no_grad():\n",
        "          for img_b, kpt_b in iter(self.valid_loader):\n",
        "              img_b = img_b.to(device)\n",
        "              kpt_b = kpt_b.to(device)\n",
        "\n",
        "              pred_b = self.model(img_b)\n",
        "              loss = self.criterion(pred_b, kpt_b)\n",
        "\n",
        "              loss = loss.detach().item()\n",
        "              loss_steps.append(loss)\n",
        "\n",
        "        avg_loss = sum(loss_steps) / len(loss_steps)\n",
        "        \n",
        "        return avg_loss\n",
        "\n",
        "    @torch.no_grad()\n",
        "    def visul(self):\n",
        "        ''' Visualize some samples\n",
        "        1. Switch model to evaluation mode and turn off gradient (by @torch.no_grad() or with torch.no_grad())\n",
        "        2. Iterate mini-batches and do:\n",
        "            a. forward to get predictions\n",
        "            b. visualize and save visualization to log_dir / f'{epoch:03d}'\n",
        "        As a result, first 25 samples are from training data and last 25 samples are from validation.\n",
        "        '''\n",
        "        self.model.eval()\n",
        "        epoch_dir = self.log_dir / f'{self.epoch:03d}'\n",
        "        epoch_dir.mkdir(parents=True)\n",
        "        idx = 0\n",
        "        for img_b, kpt_b in iter(self.visul_loader):\n",
        "            pred_b = self.model(img_b.to(self.device)).to('cpu')\n",
        "            for img, kpt, pred in zip(img_b, kpt_b, pred_b):\n",
        "                img = tf.to_pil_image(img)\n",
        "                vis = draw_kpts(img, kpt, c='orange')\n",
        "                vis = draw_kpts(img, pred, c='red')\n",
        "                vis.save(epoch_dir / f'{idx:03d}.jpg')\n",
        "                idx += 1\n",
        "\n",
        "\n",
        "log_dir = Path('./runs/') / f'{datetime.now():%b.%d %H:%M:%S}'\n",
        "log_dir.mkdir(parents=True)\n",
        "Trainer(log_dir).run()"
      ],
      "execution_count": 7,
      "outputs": [
        {
          "output_type": "stream",
          "text": [
            "Epoch 000:\n",
            "train loss: 0.029297777777537705\n",
            "valid loss: 0.020340335136279464\n",
            "Epoch 001:\n",
            "train loss: 0.01790705631719902\n",
            "valid loss: 0.016538959338019292\n",
            "Epoch 002:\n",
            "train loss: 0.013780434156069532\n",
            "valid loss: 0.013070115462566416\n",
            "Epoch 003:\n",
            "train loss: 0.012482772197108716\n",
            "valid loss: 0.01096390700743844\n",
            "Epoch 004:\n",
            "train loss: 0.011715393387324488\n",
            "valid loss: 0.01090964797573785\n",
            "Epoch 005:\n",
            "train loss: 0.01110257870168425\n",
            "valid loss: 0.011054498508262138\n",
            "Epoch 006:\n",
            "train loss: 0.010296053216249372\n",
            "valid loss: 0.011677053136130175\n",
            "Epoch 007:\n",
            "train loss: 0.009923322879088422\n",
            "valid loss: 0.009699378395453095\n",
            "Epoch 008:\n",
            "train loss: 0.009809028607560322\n",
            "valid loss: 0.011267446260899306\n",
            "Epoch 009:\n",
            "train loss: 0.009532326378393918\n",
            "valid loss: 0.010909213948373993\n",
            "Epoch 010:\n",
            "train loss: 0.007233954273397103\n",
            "valid loss: 0.008020992095892628\n",
            "Epoch 011:\n",
            "train loss: 0.006686083107100179\n",
            "valid loss: 0.007900298899039626\n",
            "Epoch 012:\n",
            "train loss: 0.006498593178306086\n",
            "valid loss: 0.007897470433575412\n",
            "Epoch 013:\n",
            "train loss: 0.006376141406750927\n",
            "valid loss: 0.007779125131977102\n",
            "Epoch 014:\n",
            "train loss: 0.006260248735391845\n",
            "valid loss: 0.007906808191910386\n",
            "Epoch 015:\n",
            "train loss: 0.006161489259102382\n",
            "valid loss: 0.007870579526449243\n",
            "Epoch 016:\n",
            "train loss: 0.006062995446457838\n",
            "valid loss: 0.0077876714135830605\n",
            "Epoch 017:\n",
            "train loss: 0.005976683768676594\n",
            "valid loss: 0.0077747921148935955\n",
            "Epoch 018:\n",
            "train loss: 0.0059198734825865055\n",
            "valid loss: 0.007809405649701754\n",
            "Epoch 019:\n",
            "train loss: 0.005891446918637181\n",
            "valid loss: 0.007813381683081388\n"
          ],
          "name": "stdout"
        },
        {
          "output_type": "display_data",
          "data": {
            "image/png": "[encoded data removed]",
            "text/plain": [
              "<Figure size 280x210 with 1 Axes>"
            ]
          },
          "metadata": {
            "tags": []
          }
        }
      ]
    },
    {
      "cell_type": "code",
      "metadata": {
        "id": "ONst3Rx_O1-j",
        "colab_type": "code",
        "outputId": "3abd6f78-dd52-464b-f3d3-9afe81acc8bf",
        "colab": {
          "base_uri": "https://localhost:8080/",
          "height": 337
        }
      },
      "source": [
        "display.Image(str(log_dir / '019' / '000.jpg'))"
      ],
      "execution_count": 8,
      "outputs": [
        {
          "output_type": "execute_result",
          "data": {
            "image/jpeg": "[encoded data removed]",
            "text/plain": [
              "<IPython.core.display.Image object>"
            ]
          },
          "metadata": {
            "tags": []
          },
          "execution_count": 8
        }
      ]
    },
    {
      "cell_type": "code",
      "metadata": {
        "id": "n8BwmLXVO7Ju",
        "colab_type": "code",
        "outputId": "7b71f11d-d40c-4e36-b0e4-ae34aa7a901f",
        "colab": {
          "base_uri": "https://localhost:8080/",
          "height": 337
        }
      },
      "source": [
        "display.Image(str(log_dir / '019' / '025.jpg'))"
      ],
      "execution_count": 9,
      "outputs": [
        {
          "output_type": "execute_result",
          "data": {
            "image/jpeg": "[encoded data removed]",
            "text/plain": [
              "<IPython.core.display.Image object>"
            ]
          },
          "metadata": {
            "tags": []
          },
          "execution_count": 9
        }
      ]
    },
    {
      "cell_type": "code",
      "metadata": {
        "id": "C9bpO0Hg3z9D",
        "colab_type": "code",
        "outputId": "685f9827-aaa0-4969-a034-3b4f7c0dd2f9",
        "colab": {
          "base_uri": "https://localhost:8080/",
          "height": 269
        }
      },
      "source": [
        "# Do testing\n",
        "class CCPDTest:\n",
        "    def __init__(self, img_dir, img_size):\n",
        "        img_paths = Path(img_dir).glob('*.jpg')\n",
        "        self.img_paths = sorted(list(img_paths))\n",
        "        self.img_size = img_size\n",
        "\n",
        "    def __len__(self):\n",
        "        return len(self.img_paths)\n",
        "\n",
        "    def __getitem__(self, idx):\n",
        "        img_path = self.img_paths[idx]\n",
        "        img = Image.open(img_path)\n",
        "        img = img.convert('RGB')\n",
        "        img = img.resize(self.img_size)\n",
        "        img = tf.to_tensor(img)\n",
        "        return img\n",
        "\n",
        "\n",
        "test_set = CCPDTest('./ccpd6000/test_images/', (192, 320))\n",
        "test_loader = DataLoader(test_set, 32, shuffle=False, num_workers=2)\n",
        "\n",
        "device = 'cuda'\n",
        "model = Net().to(device)\n",
        "model.load_state_dict(torch.load('./net_params.pkl'))\n",
        "model.eval()\n",
        "\n",
        "log_dir = Path('./test_images/') / f'{datetime.now():%Y.%m.%d-%H:%M:%S}'\n",
        "log_dir.mkdir(parents=True)\n",
        "\n",
        "def test(self):\n",
        "    anns = []\n",
        "    for img_b in iter(test_loader):\n",
        "        kpt_b = model(img_b.to(device)).cpu()\n",
        "\n",
        "        for img, kpt in zip(img_b, kpt_b):\n",
        "            img = tf.to_pil_image(img)\n",
        "            size = torch.tensor([720, 1160]).float()\n",
        "            kpt = kpt.view(4, 2)\n",
        "            kpt = kpt * size\n",
        "            kpt = kpt.view(-1)\n",
        "            anns.append([f'{self.n:04d}.jpg', *kpt.numpy().tolist()])\n",
        "            self.update()\n",
        "\n",
        "    return pd.DataFrame(anns)\n",
        "\n",
        "from tqdm import tqdm\n",
        "with torch.no_grad():\n",
        "    with tqdm(total=len(test_set)) as pbar:\n",
        "        df_pred = test(pbar)\n",
        "    print(df_pred)\n",
        "    df_pred.columns = ['name', 'BR_x', 'BR_y', 'BL_x', 'BL_y', 'TL_x', 'TL_y', 'TR_x', 'TR_y']\n",
        "    df_pred.to_csv('test.csv', float_format='%.5f', index=False)"
      ],
      "execution_count": 10,
      "outputs": [
        {
          "output_type": "stream",
          "text": [
            "100%|██████████| 3000/3000 [00:30<00:00, 98.15it/s] \n"
          ],
          "name": "stderr"
        },
        {
          "output_type": "stream",
          "text": [
            "             0           1           2  ...           6           7           8\n",
            "0     0000.jpg  369.956451  603.322998  ...  507.650940  361.244507  551.327881\n",
            "1     0001.jpg  443.629272  536.695496  ...  485.808716  440.159668  488.001312\n",
            "2     0002.jpg  460.642365  504.749512  ...  467.316406  460.944824  464.984100\n",
            "3     0003.jpg  496.596100  602.071838  ...  516.066833  491.815735  542.425842\n",
            "4     0004.jpg  440.024323  587.622925  ...  525.232910  436.277039  515.889771\n",
            "...        ...         ...         ...  ...         ...         ...         ...\n",
            "2995  2995.jpg  446.345581  640.991211  ...  572.951782  443.514191  585.101318\n",
            "2996  2996.jpg  502.987793  634.540710  ...  572.002075  502.321106  575.868713\n",
            "2997  2997.jpg  315.794678  388.333923  ...  342.052521  318.685852  342.679108\n",
            "2998  2998.jpg  444.919128  563.454651  ...  477.861969  436.135468  488.306244\n",
            "2999  2999.jpg  504.921936  654.292908  ...  527.784973  496.564148  586.455994\n",
            "\n",
            "[3000 rows x 9 columns]\n"
          ],
          "name": "stdout"
        }
      ]
    },
    {
      "cell_type": "code",
      "metadata": {
        "id": "xfxxW9BdPF0K",
        "colab_type": "code",
        "outputId": "63ec4bb8-7a81-489e-dca2-2ef542d12d19",
        "colab": {
          "base_uri": "https://localhost:8080/",
          "height": 168
        }
      },
      "source": [
        "!curl -F \"file=@test.csv\" -X POST 140.114.76.113:5000/cs6550 -i"
      ],
      "execution_count": 11,
      "outputs": [
        {
          "output_type": "stream",
          "text": [
            "HTTP/1.1 100 Continue\r\n",
            "\n",
            "HTTP/1.0 200 OK\n",
            "Content-Type: application/json\n",
            "Content-Length: 16\n",
            "Server: Werkzeug/0.16.0 Python/3.7.5\n",
            "Date: Sat, 07 Dec 2019 03:44:58 GMT\n",
            "\n",
            "{\"rmse\":13.342}\n"
          ],
          "name": "stdout"
        }
      ]
    }
  ]
}